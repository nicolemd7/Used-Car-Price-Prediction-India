{
 "cells": [
  {
   "cell_type": "code",
   "execution_count": 3,
   "id": "d4edf36b",
   "metadata": {},
   "outputs": [],
   "source": [
    "import datetime\n",
    "import numpy as np\n",
    "import pandas as pd\n",
    "import matplotlib.pyplot as plot\n",
    "import seaborn as sns\n",
    "%matplotlib inline\n",
    "from sklearn. model_selection import train_test_split\n",
    "from sklearn.linear_model import LinearRegression, Ridge, Lasso,ElasticNet\n",
    "from sklearn.feature_selection import SelectKBest, f_regression\n",
    "from sklearn.linear_model import LinearRegression, Ridge, Lasso,ElasticNet\n",
    "from sklearn.preprocessing import MinMaxScaler\n",
    "from sklearn.preprocessing import StandardScaler\n",
    "from sklearn.metrics import r2_score\n",
    "from sklearn.ensemble import RandomForestRegressor\n",
    "from sklearn.neural_network import MLPRegressor\n",
    "from sklearn.neighbors import KNeighborsRegressor\n",
    "from sklearn.impute import KNNImputer\n",
    "from sklearn.ensemble import RandomForestRegressor\n",
    "\n",
    "from sklearn.ensemble import BaggingRegressor\n",
    "from sklearn.tree import DecisionTreeRegressor\n",
    "from sklearn.svm import SVR\n",
    "\n",
    "from sklearn.ensemble import AdaBoostRegressor\n",
    "\n",
    "import xgboost as xgb\n",
    "\n",
    "import warnings\n",
    "warnings.filterwarnings('ignore')"
   ]
  },
  {
   "cell_type": "code",
   "execution_count": 4,
   "id": "e4feaefa",
   "metadata": {},
   "outputs": [],
   "source": [
    "dataframe = pd.read_csv('dataset.csv')\n"
   ]
  },
  {
   "cell_type": "code",
   "execution_count": 5,
   "id": "fd30b610",
   "metadata": {},
   "outputs": [
    {
     "data": {
      "text/html": [
       "<div>\n",
       "<style scoped>\n",
       "    .dataframe tbody tr th:only-of-type {\n",
       "        vertical-align: middle;\n",
       "    }\n",
       "\n",
       "    .dataframe tbody tr th {\n",
       "        vertical-align: top;\n",
       "    }\n",
       "\n",
       "    .dataframe thead th {\n",
       "        text-align: right;\n",
       "    }\n",
       "</style>\n",
       "<table border=\"1\" class=\"dataframe\">\n",
       "  <thead>\n",
       "    <tr style=\"text-align: right;\">\n",
       "      <th></th>\n",
       "      <th>Name</th>\n",
       "      <th>Location</th>\n",
       "      <th>Year</th>\n",
       "      <th>Kilometers_Driven</th>\n",
       "      <th>Fuel_Type</th>\n",
       "      <th>Transmission</th>\n",
       "      <th>Owner_Type</th>\n",
       "      <th>Mileage</th>\n",
       "      <th>Engine</th>\n",
       "      <th>Power</th>\n",
       "      <th>Seats</th>\n",
       "      <th>New_Price</th>\n",
       "      <th>Price</th>\n",
       "    </tr>\n",
       "  </thead>\n",
       "  <tbody>\n",
       "    <tr>\n",
       "      <th>0</th>\n",
       "      <td>Maruti Wagon R LXI CNG</td>\n",
       "      <td>Mumbai</td>\n",
       "      <td>2010</td>\n",
       "      <td>72000</td>\n",
       "      <td>CNG</td>\n",
       "      <td>Manual</td>\n",
       "      <td>First</td>\n",
       "      <td>26.6 km/kg</td>\n",
       "      <td>998 CC</td>\n",
       "      <td>58.16 bhp</td>\n",
       "      <td>5.0</td>\n",
       "      <td>NaN</td>\n",
       "      <td>1.75</td>\n",
       "    </tr>\n",
       "    <tr>\n",
       "      <th>1</th>\n",
       "      <td>Hyundai Creta 1.6 CRDi SX Option</td>\n",
       "      <td>Pune</td>\n",
       "      <td>2015</td>\n",
       "      <td>41000</td>\n",
       "      <td>Diesel</td>\n",
       "      <td>Manual</td>\n",
       "      <td>First</td>\n",
       "      <td>19.67 kmpl</td>\n",
       "      <td>1582 CC</td>\n",
       "      <td>126.2 bhp</td>\n",
       "      <td>5.0</td>\n",
       "      <td>NaN</td>\n",
       "      <td>12.50</td>\n",
       "    </tr>\n",
       "    <tr>\n",
       "      <th>2</th>\n",
       "      <td>Honda Jazz V</td>\n",
       "      <td>Chennai</td>\n",
       "      <td>2011</td>\n",
       "      <td>46000</td>\n",
       "      <td>Petrol</td>\n",
       "      <td>Manual</td>\n",
       "      <td>First</td>\n",
       "      <td>18.2 kmpl</td>\n",
       "      <td>1199 CC</td>\n",
       "      <td>88.7 bhp</td>\n",
       "      <td>5.0</td>\n",
       "      <td>8.61 Lakh</td>\n",
       "      <td>4.50</td>\n",
       "    </tr>\n",
       "    <tr>\n",
       "      <th>3</th>\n",
       "      <td>Maruti Ertiga VDI</td>\n",
       "      <td>Chennai</td>\n",
       "      <td>2012</td>\n",
       "      <td>87000</td>\n",
       "      <td>Diesel</td>\n",
       "      <td>Manual</td>\n",
       "      <td>First</td>\n",
       "      <td>20.77 kmpl</td>\n",
       "      <td>1248 CC</td>\n",
       "      <td>88.76 bhp</td>\n",
       "      <td>7.0</td>\n",
       "      <td>NaN</td>\n",
       "      <td>6.00</td>\n",
       "    </tr>\n",
       "    <tr>\n",
       "      <th>4</th>\n",
       "      <td>Audi A4 New 2.0 TDI Multitronic</td>\n",
       "      <td>Coimbatore</td>\n",
       "      <td>2013</td>\n",
       "      <td>40670</td>\n",
       "      <td>Diesel</td>\n",
       "      <td>Automatic</td>\n",
       "      <td>Second</td>\n",
       "      <td>15.2 kmpl</td>\n",
       "      <td>1968 CC</td>\n",
       "      <td>140.8 bhp</td>\n",
       "      <td>5.0</td>\n",
       "      <td>NaN</td>\n",
       "      <td>17.74</td>\n",
       "    </tr>\n",
       "  </tbody>\n",
       "</table>\n",
       "</div>"
      ],
      "text/plain": [
       "                               Name    Location  Year  Kilometers_Driven  \\\n",
       "0            Maruti Wagon R LXI CNG      Mumbai  2010              72000   \n",
       "1  Hyundai Creta 1.6 CRDi SX Option        Pune  2015              41000   \n",
       "2                      Honda Jazz V     Chennai  2011              46000   \n",
       "3                 Maruti Ertiga VDI     Chennai  2012              87000   \n",
       "4   Audi A4 New 2.0 TDI Multitronic  Coimbatore  2013              40670   \n",
       "\n",
       "  Fuel_Type Transmission Owner_Type     Mileage   Engine      Power  Seats  \\\n",
       "0       CNG       Manual      First  26.6 km/kg   998 CC  58.16 bhp    5.0   \n",
       "1    Diesel       Manual      First  19.67 kmpl  1582 CC  126.2 bhp    5.0   \n",
       "2    Petrol       Manual      First   18.2 kmpl  1199 CC   88.7 bhp    5.0   \n",
       "3    Diesel       Manual      First  20.77 kmpl  1248 CC  88.76 bhp    7.0   \n",
       "4    Diesel    Automatic     Second   15.2 kmpl  1968 CC  140.8 bhp    5.0   \n",
       "\n",
       "   New_Price  Price  \n",
       "0        NaN   1.75  \n",
       "1        NaN  12.50  \n",
       "2  8.61 Lakh   4.50  \n",
       "3        NaN   6.00  \n",
       "4        NaN  17.74  "
      ]
     },
     "execution_count": 5,
     "metadata": {},
     "output_type": "execute_result"
    }
   ],
   "source": [
    "dataframe.head()"
   ]
  },
  {
   "cell_type": "code",
   "execution_count": 6,
   "id": "954392ea",
   "metadata": {},
   "outputs": [
    {
     "data": {
      "text/plain": [
       "(7253, 13)"
      ]
     },
     "execution_count": 6,
     "metadata": {},
     "output_type": "execute_result"
    }
   ],
   "source": [
    "dataframe.shape"
   ]
  },
  {
   "cell_type": "code",
   "execution_count": 7,
   "id": "c0075e94",
   "metadata": {},
   "outputs": [
    {
     "name": "stdout",
     "output_type": "stream",
     "text": [
      "<class 'pandas.core.frame.DataFrame'>\n",
      "RangeIndex: 7253 entries, 0 to 7252\n",
      "Data columns (total 13 columns):\n",
      " #   Column             Non-Null Count  Dtype  \n",
      "---  ------             --------------  -----  \n",
      " 0   Name               7253 non-null   object \n",
      " 1   Location           7253 non-null   object \n",
      " 2   Year               7253 non-null   int64  \n",
      " 3   Kilometers_Driven  7253 non-null   int64  \n",
      " 4   Fuel_Type          7253 non-null   object \n",
      " 5   Transmission       7253 non-null   object \n",
      " 6   Owner_Type         7253 non-null   object \n",
      " 7   Mileage            7251 non-null   object \n",
      " 8   Engine             7207 non-null   object \n",
      " 9   Power              7207 non-null   object \n",
      " 10  Seats              7200 non-null   float64\n",
      " 11  New_Price          1006 non-null   object \n",
      " 12  Price              6019 non-null   float64\n",
      "dtypes: float64(2), int64(2), object(9)\n",
      "memory usage: 736.8+ KB\n"
     ]
    }
   ],
   "source": [
    "dataframe.info()"
   ]
  },
  {
   "cell_type": "code",
   "execution_count": 8,
   "id": "652d7407",
   "metadata": {},
   "outputs": [
    {
     "data": {
      "text/html": [
       "<div>\n",
       "<style scoped>\n",
       "    .dataframe tbody tr th:only-of-type {\n",
       "        vertical-align: middle;\n",
       "    }\n",
       "\n",
       "    .dataframe tbody tr th {\n",
       "        vertical-align: top;\n",
       "    }\n",
       "\n",
       "    .dataframe thead th {\n",
       "        text-align: right;\n",
       "    }\n",
       "</style>\n",
       "<table border=\"1\" class=\"dataframe\">\n",
       "  <thead>\n",
       "    <tr style=\"text-align: right;\">\n",
       "      <th></th>\n",
       "      <th>Year</th>\n",
       "      <th>Kilometers_Driven</th>\n",
       "      <th>Seats</th>\n",
       "      <th>Price</th>\n",
       "    </tr>\n",
       "  </thead>\n",
       "  <tbody>\n",
       "    <tr>\n",
       "      <th>count</th>\n",
       "      <td>7253.000000</td>\n",
       "      <td>7.253000e+03</td>\n",
       "      <td>7200.000000</td>\n",
       "      <td>6019.000000</td>\n",
       "    </tr>\n",
       "    <tr>\n",
       "      <th>mean</th>\n",
       "      <td>2013.365366</td>\n",
       "      <td>5.869906e+04</td>\n",
       "      <td>5.279722</td>\n",
       "      <td>9.479468</td>\n",
       "    </tr>\n",
       "    <tr>\n",
       "      <th>std</th>\n",
       "      <td>3.254421</td>\n",
       "      <td>8.442772e+04</td>\n",
       "      <td>0.811660</td>\n",
       "      <td>11.187917</td>\n",
       "    </tr>\n",
       "    <tr>\n",
       "      <th>min</th>\n",
       "      <td>1996.000000</td>\n",
       "      <td>1.710000e+02</td>\n",
       "      <td>0.000000</td>\n",
       "      <td>0.440000</td>\n",
       "    </tr>\n",
       "    <tr>\n",
       "      <th>25%</th>\n",
       "      <td>2011.000000</td>\n",
       "      <td>3.400000e+04</td>\n",
       "      <td>5.000000</td>\n",
       "      <td>3.500000</td>\n",
       "    </tr>\n",
       "    <tr>\n",
       "      <th>50%</th>\n",
       "      <td>2014.000000</td>\n",
       "      <td>5.341600e+04</td>\n",
       "      <td>5.000000</td>\n",
       "      <td>5.640000</td>\n",
       "    </tr>\n",
       "    <tr>\n",
       "      <th>75%</th>\n",
       "      <td>2016.000000</td>\n",
       "      <td>7.300000e+04</td>\n",
       "      <td>5.000000</td>\n",
       "      <td>9.950000</td>\n",
       "    </tr>\n",
       "    <tr>\n",
       "      <th>max</th>\n",
       "      <td>2019.000000</td>\n",
       "      <td>6.500000e+06</td>\n",
       "      <td>10.000000</td>\n",
       "      <td>160.000000</td>\n",
       "    </tr>\n",
       "  </tbody>\n",
       "</table>\n",
       "</div>"
      ],
      "text/plain": [
       "              Year  Kilometers_Driven        Seats        Price\n",
       "count  7253.000000       7.253000e+03  7200.000000  6019.000000\n",
       "mean   2013.365366       5.869906e+04     5.279722     9.479468\n",
       "std       3.254421       8.442772e+04     0.811660    11.187917\n",
       "min    1996.000000       1.710000e+02     0.000000     0.440000\n",
       "25%    2011.000000       3.400000e+04     5.000000     3.500000\n",
       "50%    2014.000000       5.341600e+04     5.000000     5.640000\n",
       "75%    2016.000000       7.300000e+04     5.000000     9.950000\n",
       "max    2019.000000       6.500000e+06    10.000000   160.000000"
      ]
     },
     "execution_count": 8,
     "metadata": {},
     "output_type": "execute_result"
    }
   ],
   "source": [
    "dataframe.describe()"
   ]
  },
  {
   "cell_type": "code",
   "execution_count": 9,
   "id": "4f330be1",
   "metadata": {},
   "outputs": [
    {
     "data": {
      "text/plain": [
       "Name                    0\n",
       "Location                0\n",
       "Year                    0\n",
       "Kilometers_Driven       0\n",
       "Fuel_Type               0\n",
       "Transmission            0\n",
       "Owner_Type              0\n",
       "Mileage                 2\n",
       "Engine                 46\n",
       "Power                  46\n",
       "Seats                  53\n",
       "New_Price            6247\n",
       "Price                1234\n",
       "dtype: int64"
      ]
     },
     "execution_count": 9,
     "metadata": {},
     "output_type": "execute_result"
    }
   ],
   "source": [
    "dataframe.isnull().sum()"
   ]
  },
  {
   "cell_type": "code",
   "execution_count": 10,
   "id": "4226396a",
   "metadata": {},
   "outputs": [],
   "source": [
    "dataframe = dataframe.drop([\"New_Price\"],axis=1)"
   ]
  },
  {
   "cell_type": "code",
   "execution_count": 11,
   "id": "c45dd3e0",
   "metadata": {},
   "outputs": [],
   "source": [
    "dataframe =dataframe.drop([\"Name\"],axis=1)"
   ]
  },
  {
   "cell_type": "code",
   "execution_count": 12,
   "id": "e2adc2dd",
   "metadata": {},
   "outputs": [
    {
     "data": {
      "text/plain": [
       "array(['Mumbai', 'Pune', 'Chennai', 'Coimbatore', 'Hyderabad', 'Jaipur',\n",
       "       'Kochi', 'Kolkata', 'Delhi', 'Bangalore', 'Ahmedabad'],\n",
       "      dtype=object)"
      ]
     },
     "execution_count": 12,
     "metadata": {},
     "output_type": "execute_result"
    }
   ],
   "source": [
    "dataframe[\"Location\"].unique()"
   ]
  },
  {
   "cell_type": "code",
   "execution_count": 13,
   "id": "b48c53f4",
   "metadata": {},
   "outputs": [],
   "source": [
    "Mileagee = dataframe[\"Mileage\"].str.split(\" \", expand = True)\n",
    "dataframe[\"Mileage\"] = pd.to_numeric(Mileagee[0], errors = 'coerce')\n"
   ]
  },
  {
   "cell_type": "code",
   "execution_count": 14,
   "id": "d5121c69",
   "metadata": {},
   "outputs": [
    {
     "data": {
      "text/html": [
       "<div>\n",
       "<style scoped>\n",
       "    .dataframe tbody tr th:only-of-type {\n",
       "        vertical-align: middle;\n",
       "    }\n",
       "\n",
       "    .dataframe tbody tr th {\n",
       "        vertical-align: top;\n",
       "    }\n",
       "\n",
       "    .dataframe thead th {\n",
       "        text-align: right;\n",
       "    }\n",
       "</style>\n",
       "<table border=\"1\" class=\"dataframe\">\n",
       "  <thead>\n",
       "    <tr style=\"text-align: right;\">\n",
       "      <th></th>\n",
       "      <th>Location</th>\n",
       "      <th>Year</th>\n",
       "      <th>Kilometers_Driven</th>\n",
       "      <th>Fuel_Type</th>\n",
       "      <th>Transmission</th>\n",
       "      <th>Owner_Type</th>\n",
       "      <th>Mileage</th>\n",
       "      <th>Engine</th>\n",
       "      <th>Power</th>\n",
       "      <th>Seats</th>\n",
       "      <th>Price</th>\n",
       "    </tr>\n",
       "  </thead>\n",
       "  <tbody>\n",
       "    <tr>\n",
       "      <th>0</th>\n",
       "      <td>Mumbai</td>\n",
       "      <td>2010</td>\n",
       "      <td>72000</td>\n",
       "      <td>CNG</td>\n",
       "      <td>Manual</td>\n",
       "      <td>First</td>\n",
       "      <td>26.60</td>\n",
       "      <td>998 CC</td>\n",
       "      <td>58.16 bhp</td>\n",
       "      <td>5.0</td>\n",
       "      <td>1.75</td>\n",
       "    </tr>\n",
       "    <tr>\n",
       "      <th>1</th>\n",
       "      <td>Pune</td>\n",
       "      <td>2015</td>\n",
       "      <td>41000</td>\n",
       "      <td>Diesel</td>\n",
       "      <td>Manual</td>\n",
       "      <td>First</td>\n",
       "      <td>19.67</td>\n",
       "      <td>1582 CC</td>\n",
       "      <td>126.2 bhp</td>\n",
       "      <td>5.0</td>\n",
       "      <td>12.50</td>\n",
       "    </tr>\n",
       "    <tr>\n",
       "      <th>2</th>\n",
       "      <td>Chennai</td>\n",
       "      <td>2011</td>\n",
       "      <td>46000</td>\n",
       "      <td>Petrol</td>\n",
       "      <td>Manual</td>\n",
       "      <td>First</td>\n",
       "      <td>18.20</td>\n",
       "      <td>1199 CC</td>\n",
       "      <td>88.7 bhp</td>\n",
       "      <td>5.0</td>\n",
       "      <td>4.50</td>\n",
       "    </tr>\n",
       "    <tr>\n",
       "      <th>3</th>\n",
       "      <td>Chennai</td>\n",
       "      <td>2012</td>\n",
       "      <td>87000</td>\n",
       "      <td>Diesel</td>\n",
       "      <td>Manual</td>\n",
       "      <td>First</td>\n",
       "      <td>20.77</td>\n",
       "      <td>1248 CC</td>\n",
       "      <td>88.76 bhp</td>\n",
       "      <td>7.0</td>\n",
       "      <td>6.00</td>\n",
       "    </tr>\n",
       "    <tr>\n",
       "      <th>4</th>\n",
       "      <td>Coimbatore</td>\n",
       "      <td>2013</td>\n",
       "      <td>40670</td>\n",
       "      <td>Diesel</td>\n",
       "      <td>Automatic</td>\n",
       "      <td>Second</td>\n",
       "      <td>15.20</td>\n",
       "      <td>1968 CC</td>\n",
       "      <td>140.8 bhp</td>\n",
       "      <td>5.0</td>\n",
       "      <td>17.74</td>\n",
       "    </tr>\n",
       "  </tbody>\n",
       "</table>\n",
       "</div>"
      ],
      "text/plain": [
       "     Location  Year  Kilometers_Driven Fuel_Type Transmission Owner_Type  \\\n",
       "0      Mumbai  2010              72000       CNG       Manual      First   \n",
       "1        Pune  2015              41000    Diesel       Manual      First   \n",
       "2     Chennai  2011              46000    Petrol       Manual      First   \n",
       "3     Chennai  2012              87000    Diesel       Manual      First   \n",
       "4  Coimbatore  2013              40670    Diesel    Automatic     Second   \n",
       "\n",
       "   Mileage   Engine      Power  Seats  Price  \n",
       "0    26.60   998 CC  58.16 bhp    5.0   1.75  \n",
       "1    19.67  1582 CC  126.2 bhp    5.0  12.50  \n",
       "2    18.20  1199 CC   88.7 bhp    5.0   4.50  \n",
       "3    20.77  1248 CC  88.76 bhp    7.0   6.00  \n",
       "4    15.20  1968 CC  140.8 bhp    5.0  17.74  "
      ]
     },
     "execution_count": 14,
     "metadata": {},
     "output_type": "execute_result"
    }
   ],
   "source": [
    "dataframe.head()"
   ]
  },
  {
   "cell_type": "code",
   "execution_count": 15,
   "id": "a051acd1",
   "metadata": {},
   "outputs": [],
   "source": [
    "Enginecc = dataframe[\"Engine\"].str.split(\" \", expand = True)\n",
    "dataframe[\"Engine\"] = pd.to_numeric(Enginecc[0], errors = 'coerce')"
   ]
  },
  {
   "cell_type": "code",
   "execution_count": 16,
   "id": "7e2fe3e3",
   "metadata": {},
   "outputs": [],
   "source": [
    "Pbhp = dataframe[\"Power\"].str.split(\" \", expand = True)\n",
    "dataframe[\"Power\"] = pd.to_numeric(Pbhp[0], errors = 'coerce')"
   ]
  },
  {
   "cell_type": "code",
   "execution_count": 17,
   "id": "2033f5bf",
   "metadata": {},
   "outputs": [
    {
     "data": {
      "text/html": [
       "<div>\n",
       "<style scoped>\n",
       "    .dataframe tbody tr th:only-of-type {\n",
       "        vertical-align: middle;\n",
       "    }\n",
       "\n",
       "    .dataframe tbody tr th {\n",
       "        vertical-align: top;\n",
       "    }\n",
       "\n",
       "    .dataframe thead th {\n",
       "        text-align: right;\n",
       "    }\n",
       "</style>\n",
       "<table border=\"1\" class=\"dataframe\">\n",
       "  <thead>\n",
       "    <tr style=\"text-align: right;\">\n",
       "      <th></th>\n",
       "      <th>Location</th>\n",
       "      <th>Year</th>\n",
       "      <th>Kilometers_Driven</th>\n",
       "      <th>Fuel_Type</th>\n",
       "      <th>Transmission</th>\n",
       "      <th>Owner_Type</th>\n",
       "      <th>Mileage</th>\n",
       "      <th>Engine</th>\n",
       "      <th>Power</th>\n",
       "      <th>Seats</th>\n",
       "      <th>Price</th>\n",
       "    </tr>\n",
       "  </thead>\n",
       "  <tbody>\n",
       "    <tr>\n",
       "      <th>0</th>\n",
       "      <td>Mumbai</td>\n",
       "      <td>2010</td>\n",
       "      <td>72000</td>\n",
       "      <td>CNG</td>\n",
       "      <td>Manual</td>\n",
       "      <td>First</td>\n",
       "      <td>26.60</td>\n",
       "      <td>998.0</td>\n",
       "      <td>58.16</td>\n",
       "      <td>5.0</td>\n",
       "      <td>1.75</td>\n",
       "    </tr>\n",
       "    <tr>\n",
       "      <th>1</th>\n",
       "      <td>Pune</td>\n",
       "      <td>2015</td>\n",
       "      <td>41000</td>\n",
       "      <td>Diesel</td>\n",
       "      <td>Manual</td>\n",
       "      <td>First</td>\n",
       "      <td>19.67</td>\n",
       "      <td>1582.0</td>\n",
       "      <td>126.20</td>\n",
       "      <td>5.0</td>\n",
       "      <td>12.50</td>\n",
       "    </tr>\n",
       "    <tr>\n",
       "      <th>2</th>\n",
       "      <td>Chennai</td>\n",
       "      <td>2011</td>\n",
       "      <td>46000</td>\n",
       "      <td>Petrol</td>\n",
       "      <td>Manual</td>\n",
       "      <td>First</td>\n",
       "      <td>18.20</td>\n",
       "      <td>1199.0</td>\n",
       "      <td>88.70</td>\n",
       "      <td>5.0</td>\n",
       "      <td>4.50</td>\n",
       "    </tr>\n",
       "    <tr>\n",
       "      <th>3</th>\n",
       "      <td>Chennai</td>\n",
       "      <td>2012</td>\n",
       "      <td>87000</td>\n",
       "      <td>Diesel</td>\n",
       "      <td>Manual</td>\n",
       "      <td>First</td>\n",
       "      <td>20.77</td>\n",
       "      <td>1248.0</td>\n",
       "      <td>88.76</td>\n",
       "      <td>7.0</td>\n",
       "      <td>6.00</td>\n",
       "    </tr>\n",
       "    <tr>\n",
       "      <th>4</th>\n",
       "      <td>Coimbatore</td>\n",
       "      <td>2013</td>\n",
       "      <td>40670</td>\n",
       "      <td>Diesel</td>\n",
       "      <td>Automatic</td>\n",
       "      <td>Second</td>\n",
       "      <td>15.20</td>\n",
       "      <td>1968.0</td>\n",
       "      <td>140.80</td>\n",
       "      <td>5.0</td>\n",
       "      <td>17.74</td>\n",
       "    </tr>\n",
       "  </tbody>\n",
       "</table>\n",
       "</div>"
      ],
      "text/plain": [
       "     Location  Year  Kilometers_Driven Fuel_Type Transmission Owner_Type  \\\n",
       "0      Mumbai  2010              72000       CNG       Manual      First   \n",
       "1        Pune  2015              41000    Diesel       Manual      First   \n",
       "2     Chennai  2011              46000    Petrol       Manual      First   \n",
       "3     Chennai  2012              87000    Diesel       Manual      First   \n",
       "4  Coimbatore  2013              40670    Diesel    Automatic     Second   \n",
       "\n",
       "   Mileage  Engine   Power  Seats  Price  \n",
       "0    26.60   998.0   58.16    5.0   1.75  \n",
       "1    19.67  1582.0  126.20    5.0  12.50  \n",
       "2    18.20  1199.0   88.70    5.0   4.50  \n",
       "3    20.77  1248.0   88.76    7.0   6.00  \n",
       "4    15.20  1968.0  140.80    5.0  17.74  "
      ]
     },
     "execution_count": 17,
     "metadata": {},
     "output_type": "execute_result"
    }
   ],
   "source": [
    "dataframe.head()"
   ]
  },
  {
   "cell_type": "code",
   "execution_count": 18,
   "id": "8561d1ae",
   "metadata": {},
   "outputs": [
    {
     "name": "stdout",
     "output_type": "stream",
     "text": [
      "<class 'pandas.core.frame.DataFrame'>\n",
      "RangeIndex: 7253 entries, 0 to 7252\n",
      "Data columns (total 11 columns):\n",
      " #   Column             Non-Null Count  Dtype  \n",
      "---  ------             --------------  -----  \n",
      " 0   Location           7253 non-null   object \n",
      " 1   Year               7253 non-null   int64  \n",
      " 2   Kilometers_Driven  7253 non-null   int64  \n",
      " 3   Fuel_Type          7253 non-null   object \n",
      " 4   Transmission       7253 non-null   object \n",
      " 5   Owner_Type         7253 non-null   object \n",
      " 6   Mileage            7251 non-null   float64\n",
      " 7   Engine             7207 non-null   float64\n",
      " 8   Power              7078 non-null   float64\n",
      " 9   Seats              7200 non-null   float64\n",
      " 10  Price              6019 non-null   float64\n",
      "dtypes: float64(5), int64(2), object(4)\n",
      "memory usage: 623.4+ KB\n"
     ]
    }
   ],
   "source": [
    "dataframe.info()"
   ]
  },
  {
   "cell_type": "code",
   "execution_count": 19,
   "id": "0e011868",
   "metadata": {},
   "outputs": [],
   "source": [
    "dataf =pd.get_dummies(dataframe, columns=['Fuel_Type','Transmission','Owner_Type','Location'])"
   ]
  },
  {
   "cell_type": "code",
   "execution_count": 20,
   "id": "94ee7df9",
   "metadata": {},
   "outputs": [
    {
     "data": {
      "text/plain": [
       "Year                            0\n",
       "Kilometers_Driven               0\n",
       "Mileage                         2\n",
       "Engine                         46\n",
       "Power                         175\n",
       "Seats                          53\n",
       "Price                        1234\n",
       "Fuel_Type_CNG                   0\n",
       "Fuel_Type_Diesel                0\n",
       "Fuel_Type_Electric              0\n",
       "Fuel_Type_LPG                   0\n",
       "Fuel_Type_Petrol                0\n",
       "Transmission_Automatic          0\n",
       "Transmission_Manual             0\n",
       "Owner_Type_First                0\n",
       "Owner_Type_Fourth & Above       0\n",
       "Owner_Type_Second               0\n",
       "Owner_Type_Third                0\n",
       "Location_Ahmedabad              0\n",
       "Location_Bangalore              0\n",
       "Location_Chennai                0\n",
       "Location_Coimbatore             0\n",
       "Location_Delhi                  0\n",
       "Location_Hyderabad              0\n",
       "Location_Jaipur                 0\n",
       "Location_Kochi                  0\n",
       "Location_Kolkata                0\n",
       "Location_Mumbai                 0\n",
       "Location_Pune                   0\n",
       "dtype: int64"
      ]
     },
     "execution_count": 20,
     "metadata": {},
     "output_type": "execute_result"
    }
   ],
   "source": [
    "dataf.isna().sum()"
   ]
  },
  {
   "cell_type": "markdown",
   "id": "27107d5f",
   "metadata": {},
   "source": [
    "Now that we have encoded categorical values we shall now impute missing values by calculating their mean\n",
    "\n"
   ]
  },
  {
   "cell_type": "code",
   "execution_count": 21,
   "id": "ef7dc54d",
   "metadata": {},
   "outputs": [],
   "source": [
    "dataf[\"Mileage\"].fillna(dataf[\"Mileage\"].astype(\"float64\").mean(), inplace = True)\n",
    "dataf[\"Engine\"].fillna(dataf[\"Engine\"].astype(\"float64\").mean(), inplace = True)\n",
    "dataf[\"Power\"].fillna(dataf[\"Power\"].astype(\"float64\").mean(), inplace = True)\n",
    "dataf[\"Seats\"].fillna(dataf[\"Seats\"].astype(\"float64\").mean(), inplace = True)\n",
    "dataf[\"Price\"].fillna(dataf[\"Price\"].astype(\"float64\").mean(), inplace = True)"
   ]
  },
  {
   "cell_type": "code",
   "execution_count": 22,
   "id": "593511d2",
   "metadata": {},
   "outputs": [
    {
     "data": {
      "text/plain": [
       "Year                         0\n",
       "Kilometers_Driven            0\n",
       "Mileage                      0\n",
       "Engine                       0\n",
       "Power                        0\n",
       "Seats                        0\n",
       "Price                        0\n",
       "Fuel_Type_CNG                0\n",
       "Fuel_Type_Diesel             0\n",
       "Fuel_Type_Electric           0\n",
       "Fuel_Type_LPG                0\n",
       "Fuel_Type_Petrol             0\n",
       "Transmission_Automatic       0\n",
       "Transmission_Manual          0\n",
       "Owner_Type_First             0\n",
       "Owner_Type_Fourth & Above    0\n",
       "Owner_Type_Second            0\n",
       "Owner_Type_Third             0\n",
       "Location_Ahmedabad           0\n",
       "Location_Bangalore           0\n",
       "Location_Chennai             0\n",
       "Location_Coimbatore          0\n",
       "Location_Delhi               0\n",
       "Location_Hyderabad           0\n",
       "Location_Jaipur              0\n",
       "Location_Kochi               0\n",
       "Location_Kolkata             0\n",
       "Location_Mumbai              0\n",
       "Location_Pune                0\n",
       "dtype: int64"
      ]
     },
     "execution_count": 22,
     "metadata": {},
     "output_type": "execute_result"
    }
   ],
   "source": [
    "dataf.isna().sum()"
   ]
  },
  {
   "cell_type": "markdown",
   "id": "7d7f66c0",
   "metadata": {},
   "source": [
    "ML Algos"
   ]
  },
  {
   "cell_type": "code",
   "execution_count": 38,
   "id": "e79b4b03",
   "metadata": {},
   "outputs": [
    {
     "name": "stdout",
     "output_type": "stream",
     "text": [
      "(5439, 28)\n",
      "(1814, 28)\n",
      "(5439, 1)\n",
      "(1814, 1)\n"
     ]
    }
   ],
   "source": [
    "X_train, X_test, y_train, y_test = train_test_split(dataf.drop(columns = ['Price']), dataf[['Price']])\n",
    "print(X_train.shape)\n",
    "print(X_test.shape)\n",
    "print(y_train.shape)\n",
    "print(y_test.shape)"
   ]
  },
  {
   "cell_type": "code",
   "execution_count": 39,
   "id": "51b3e218",
   "metadata": {},
   "outputs": [],
   "source": [
    "from sklearn.preprocessing import MinMaxScaler\n",
    "\n",
    "X_mtrain= MinMaxScaler().fit_transform(X_train)\n",
    "X_mtest= MinMaxScaler().fit_transform(X_test)"
   ]
  },
  {
   "cell_type": "code",
   "execution_count": 40,
   "id": "8155a0e9",
   "metadata": {},
   "outputs": [],
   "source": [
    "from sklearn.preprocessing import StandardScaler\n",
    "\n",
    "X_strain = StandardScaler().fit_transform(X_train)\n",
    "X_stest = StandardScaler().fit_transform(X_test)"
   ]
  },
  {
   "cell_type": "code",
   "execution_count": 65,
   "id": "98f75ae1",
   "metadata": {},
   "outputs": [],
   "source": [
    "algos={}\n",
    "algos_minmax ={}\n",
    "algos_standard={}"
   ]
  },
  {
   "cell_type": "markdown",
   "id": "8549c68c",
   "metadata": {},
   "source": [
    "**Linear Regression**"
   ]
  },
  {
   "cell_type": "code",
   "execution_count": 66,
   "id": "92de9e1e",
   "metadata": {},
   "outputs": [
    {
     "data": {
      "text/plain": [
       "59.6983908960804"
      ]
     },
     "execution_count": 66,
     "metadata": {},
     "output_type": "execute_result"
    }
   ],
   "source": [
    "linearRegression = LinearRegression()\n",
    "linearRegression.fit(X_train, y_train)\n",
    "y_pred = linearRegression.predict(X_test)\n",
    "algos[\"Linear Regression\"]=r2_score(y_test, y_pred)*100\n",
    "algos[\"Linear Regression\"]"
   ]
  },
  {
   "cell_type": "code",
   "execution_count": 67,
   "id": "739a49e7",
   "metadata": {},
   "outputs": [
    {
     "data": {
      "text/plain": [
       "55.65816092333789"
      ]
     },
     "execution_count": 67,
     "metadata": {},
     "output_type": "execute_result"
    }
   ],
   "source": [
    "linearRegression = LinearRegression()\n",
    "linearRegression.fit(X_mtrain, y_train)\n",
    "y_pred = linearRegression.predict(X_mtest)\n",
    "algos_minmax[\"Linear Regression\"]=r2_score(y_test, y_pred)*100\n",
    "algos_minmax[\"Linear Regression\"]"
   ]
  },
  {
   "cell_type": "code",
   "execution_count": 68,
   "id": "8ba25585",
   "metadata": {},
   "outputs": [
    {
     "data": {
      "text/plain": [
       "-2.915472921343106e+22"
      ]
     },
     "execution_count": 68,
     "metadata": {},
     "output_type": "execute_result"
    }
   ],
   "source": [
    "linearRegression = LinearRegression()\n",
    "linearRegression.fit(X_strain, y_train)\n",
    "y_pred = linearRegression.predict(X_stest)\n",
    "algos_standard[\"Linear Regression\"]=r2_score(y_test, y_pred)*100\n",
    "algos_standard[\"Linear Regression\"]"
   ]
  },
  {
   "cell_type": "markdown",
   "id": "8afcf1ed",
   "metadata": {},
   "source": [
    "**Lasso Regression**"
   ]
  },
  {
   "cell_type": "code",
   "execution_count": 25,
   "id": "eb9783fd",
   "metadata": {},
   "outputs": [
    {
     "data": {
      "text/plain": [
       "59.02311332319498"
      ]
     },
     "execution_count": 25,
     "metadata": {},
     "output_type": "execute_result"
    }
   ],
   "source": [
    "\n",
    "lass=Lasso(alpha=0.1).fit(X_train,y_train)\n",
    "y_pred = lass.predict(X_test)\n",
    "algos[\"Lasso Regression\"]=r2_score(y_test, y_pred)*100\n",
    "algos[\"Lasso Regression\"]"
   ]
  },
  {
   "cell_type": "code",
   "execution_count": 69,
   "id": "faad5082",
   "metadata": {},
   "outputs": [
    {
     "data": {
      "text/plain": [
       "56.4318425979652"
      ]
     },
     "execution_count": 69,
     "metadata": {},
     "output_type": "execute_result"
    }
   ],
   "source": [
    "\n",
    "lass=Lasso(alpha=0.1).fit(X_mtrain,y_train)\n",
    "y_pred = lass.predict(X_mtest)\n",
    "algos_minmax[\"Lasso Regression\"]=r2_score(y_test, y_pred)*100\n",
    "algos_minmax[\"Lasso Regression\"]"
   ]
  },
  {
   "cell_type": "code",
   "execution_count": 70,
   "id": "fc2713d4",
   "metadata": {},
   "outputs": [
    {
     "data": {
      "text/plain": [
       "59.77199787599352"
      ]
     },
     "execution_count": 70,
     "metadata": {},
     "output_type": "execute_result"
    }
   ],
   "source": [
    "\n",
    "lass=Lasso(alpha=0.1).fit(X_strain,y_train)\n",
    "y_pred = lass.predict(X_stest)\n",
    "algos_standard[\"Lasso Regression\"]=r2_score(y_test, y_pred)*100\n",
    "algos_standard[\"Lasso Regression\"]"
   ]
  },
  {
   "cell_type": "markdown",
   "id": "d03d14e5",
   "metadata": {},
   "source": [
    "**Ridge Regression**"
   ]
  },
  {
   "cell_type": "code",
   "execution_count": 98,
   "id": "aa2db325",
   "metadata": {},
   "outputs": [
    {
     "data": {
      "text/plain": [
       "59.69766421187961"
      ]
     },
     "execution_count": 98,
     "metadata": {},
     "output_type": "execute_result"
    }
   ],
   "source": [
    "rid =Ridge(alpha=1.0).fit(X_train,y_train)\n",
    "y_pred = rid.predict(X_test)\n",
    "algos[\"Ridge Regression\"]=r2_score(y_test, y_pred)*100\n",
    "algos[\"Ridge Regression\"]"
   ]
  },
  {
   "cell_type": "code",
   "execution_count": 99,
   "id": "3beffc8b",
   "metadata": {},
   "outputs": [
    {
     "data": {
      "text/plain": [
       "59.17784069551089"
      ]
     },
     "execution_count": 99,
     "metadata": {},
     "output_type": "execute_result"
    }
   ],
   "source": [
    "rid =Ridge(alpha=1.0).fit(X_mtrain,y_train)\n",
    "y_pred = rid.predict(X_mtest)\n",
    "algos_minmax[\"Ridge Regression\"]=r2_score(y_test, y_pred)*100\n",
    "algos_minmax[\"Ridge Regression\"]"
   ]
  },
  {
   "cell_type": "code",
   "execution_count": 100,
   "id": "d82a712f",
   "metadata": {},
   "outputs": [
    {
     "data": {
      "text/plain": [
       "59.824048287567024"
      ]
     },
     "execution_count": 100,
     "metadata": {},
     "output_type": "execute_result"
    }
   ],
   "source": [
    "rid =Ridge(alpha=1.0).fit(X_strain,y_train)\n",
    "y_pred = rid.predict(X_stest)\n",
    "algos_standard[\"Ridge Regression\"]=r2_score(y_test, y_pred)*100\n",
    "algos_standard[\"Ridge Regression\"]"
   ]
  },
  {
   "cell_type": "markdown",
   "id": "480a8ddd",
   "metadata": {},
   "source": [
    "**Random Forest**"
   ]
  },
  {
   "cell_type": "code",
   "execution_count": 101,
   "id": "ef0add22",
   "metadata": {},
   "outputs": [
    {
     "data": {
      "text/plain": [
       "74.87459313545612"
      ]
     },
     "execution_count": 101,
     "metadata": {},
     "output_type": "execute_result"
    }
   ],
   "source": [
    "rf = RandomForestRegressor(n_estimators=150)\n",
    "rf.fit(X_train, y_train)\n",
    "y_pred = rf.predict(X_test)\n",
    "algos[\"Random Forest\"]=r2_score(y_test, y_pred)*100\n",
    "algos[\"Random Forest\"]"
   ]
  },
  {
   "cell_type": "code",
   "execution_count": 102,
   "id": "c98ab11a",
   "metadata": {},
   "outputs": [
    {
     "data": {
      "text/plain": [
       "69.23273364746892"
      ]
     },
     "execution_count": 102,
     "metadata": {},
     "output_type": "execute_result"
    }
   ],
   "source": [
    "rf = RandomForestRegressor(n_estimators=150)\n",
    "rf.fit(X_mtrain, y_train)\n",
    "y_pred = rf.predict(X_mtest)\n",
    "algos_minmax[\"Random Forest\"]=r2_score(y_test, y_pred)*100\n",
    "algos_minmax[\"Random Forest\"]"
   ]
  },
  {
   "cell_type": "code",
   "execution_count": 103,
   "id": "f685831a",
   "metadata": {},
   "outputs": [
    {
     "data": {
      "text/plain": [
       "70.85944723927624"
      ]
     },
     "execution_count": 103,
     "metadata": {},
     "output_type": "execute_result"
    }
   ],
   "source": [
    "rf = RandomForestRegressor(n_estimators=150)\n",
    "rf.fit(X_strain, y_train)\n",
    "y_pred = rf.predict(X_stest)\n",
    "algos_standard[\"Random Forest\"]=r2_score(y_test, y_pred)*100\n",
    "algos_standard[\"Random Forest\"]"
   ]
  },
  {
   "cell_type": "markdown",
   "id": "67425d70",
   "metadata": {},
   "source": [
    "**MLP**"
   ]
  },
  {
   "cell_type": "code",
   "execution_count": 104,
   "id": "df608e0a",
   "metadata": {},
   "outputs": [
    {
     "data": {
      "text/plain": [
       "-991593.8435025539"
      ]
     },
     "execution_count": 104,
     "metadata": {},
     "output_type": "execute_result"
    }
   ],
   "source": [
    "mlp =MLPRegressor(random_state=1)\n",
    "mlp.fit(X_train, y_train)\n",
    "y_pred = mlp.predict(X_test)\n",
    "algos[\"MLP\"]=r2_score(y_test, y_pred)*100\n",
    "algos[\"MLP\"]"
   ]
  },
  {
   "cell_type": "code",
   "execution_count": 105,
   "id": "69f160a8",
   "metadata": {},
   "outputs": [
    {
     "data": {
      "text/plain": [
       "67.0255341866351"
      ]
     },
     "execution_count": 105,
     "metadata": {},
     "output_type": "execute_result"
    }
   ],
   "source": [
    "mlp =MLPRegressor(random_state=1)\n",
    "mlp.fit(X_mtrain, y_train)\n",
    "y_pred = mlp.predict(X_mtest)\n",
    "algos_minmax[\"MLP\"]=r2_score(y_test, y_pred)*100\n",
    "algos_minmax[\"MLP\"]"
   ]
  },
  {
   "cell_type": "code",
   "execution_count": 106,
   "id": "c13cfcc4",
   "metadata": {},
   "outputs": [
    {
     "data": {
      "text/plain": [
       "68.4803792093069"
      ]
     },
     "execution_count": 106,
     "metadata": {},
     "output_type": "execute_result"
    }
   ],
   "source": [
    "mlp =MLPRegressor(random_state=1)\n",
    "mlp.fit(X_strain, y_train)\n",
    "y_pred = mlp.predict(X_stest)\n",
    "algos_standard[\"MLP\"]=r2_score(y_test, y_pred)*100\n",
    "algos_standard[\"MLP\"]"
   ]
  },
  {
   "cell_type": "markdown",
   "id": "5d5c3531",
   "metadata": {},
   "source": [
    "**KNN**"
   ]
  },
  {
   "cell_type": "code",
   "execution_count": 51,
   "id": "de5eabd3",
   "metadata": {},
   "outputs": [
    {
     "name": "stdout",
     "output_type": "stream",
     "text": [
      "K = 1  , R2 Score = 18.4400544549857\n",
      "K = 2  , R2 Score = 39.31156262080939\n",
      "K = 3  , R2 Score = 48.30369940924227\n",
      "K = 4  , R2 Score = 51.90808414956454\n",
      "K = 5  , R2 Score = 51.8770683796576\n",
      "K = 6  , R2 Score = 52.1866967002329\n",
      "K = 7  , R2 Score = 51.22259420385782\n",
      "K = 8  , R2 Score = 50.79065297999325\n",
      "K = 9  , R2 Score = 49.97162886854443\n"
     ]
    }
   ],
   "source": [
    "for i in range(1,10):\n",
    "    KNN=KNeighborsRegressor(n_neighbors=i)\n",
    "    KNN.fit(X_train,y_train)\n",
    "    y_pred=KNN.predict(X_test)\n",
    "    a=r2_score(y_test, y_pred)*100\n",
    "    print(\"K =\",i,\" , R2 Score =\",a)"
   ]
  },
  {
   "cell_type": "code",
   "execution_count": 107,
   "id": "43233bd9",
   "metadata": {},
   "outputs": [
    {
     "data": {
      "text/plain": [
       "51.90808414956454"
      ]
     },
     "execution_count": 107,
     "metadata": {},
     "output_type": "execute_result"
    }
   ],
   "source": [
    "KNN=KNeighborsRegressor(n_neighbors=4)\n",
    "KNN.fit(X_train,y_train)\n",
    "y_pred=KNN.predict(X_test)\n",
    "algos[\"KNN\"]=r2_score(y_test, y_pred)*100\n",
    "algos[\"KNN\"]"
   ]
  },
  {
   "cell_type": "code",
   "execution_count": 52,
   "id": "a69d9bec",
   "metadata": {},
   "outputs": [
    {
     "name": "stdout",
     "output_type": "stream",
     "text": [
      "K = 1  , R2 Score = 38.66935076935323\n",
      "K = 2  , R2 Score = 47.8123707107762\n",
      "K = 3  , R2 Score = 52.27758478825911\n",
      "K = 4  , R2 Score = 53.9494639998886\n",
      "K = 5  , R2 Score = 53.95388794171472\n",
      "K = 6  , R2 Score = 53.63844455098903\n",
      "K = 7  , R2 Score = 53.26828191084307\n",
      "K = 8  , R2 Score = 53.359157983817205\n",
      "K = 9  , R2 Score = 53.569049382347856\n"
     ]
    }
   ],
   "source": [
    "#estimating MSLE for k=1-9\n",
    "R_MSLE=[]\n",
    "for i in range(1,10):\n",
    "    KNN=KNeighborsRegressor(n_neighbors=i)\n",
    "    KNN.fit(X_mtrain,y_train)\n",
    "    y_pred=KNN.predict(X_mtest)\n",
    "    a=r2_score(y_test, y_pred)*100\n",
    "    print(\"K =\",i,\" , R2 Score =\",a)"
   ]
  },
  {
   "cell_type": "code",
   "execution_count": 109,
   "id": "2c0b468c",
   "metadata": {},
   "outputs": [
    {
     "data": {
      "text/plain": [
       "53.95388794171472"
      ]
     },
     "execution_count": 109,
     "metadata": {},
     "output_type": "execute_result"
    }
   ],
   "source": [
    "KNN=KNeighborsRegressor(n_neighbors=5)\n",
    "KNN.fit(X_mtrain,y_train)\n",
    "y_pred=KNN.predict(X_mtest)\n",
    "algos_minmax[\"KNN\"]=r2_score(y_test, y_pred)*100\n",
    "algos_minmax[\"KNN\"]"
   ]
  },
  {
   "cell_type": "code",
   "execution_count": 53,
   "id": "5fca880f",
   "metadata": {},
   "outputs": [
    {
     "name": "stdout",
     "output_type": "stream",
     "text": [
      "K = 1  , R2 Score = 48.737905836057905\n",
      "K = 2  , R2 Score = 54.17768117834654\n",
      "K = 3  , R2 Score = 55.9088391140788\n",
      "K = 4  , R2 Score = 56.968663491755464\n",
      "K = 5  , R2 Score = 59.748111873409506\n",
      "K = 6  , R2 Score = 58.94511408456595\n",
      "K = 7  , R2 Score = 58.32783860231277\n",
      "K = 8  , R2 Score = 58.275748817571184\n",
      "K = 9  , R2 Score = 59.072522592391906\n"
     ]
    }
   ],
   "source": [
    "#estimating MSLE for k=1-9\n",
    "R_MSLE=[]\n",
    "for i in range(1,10):\n",
    "    KNN=KNeighborsRegressor(n_neighbors=i)\n",
    "    KNN.fit(X_strain,y_train)\n",
    "    y_pred=KNN.predict(X_stest)\n",
    "    a=r2_score(y_test, y_pred)*100\n",
    "    print(\"K =\",i,\" , R2 Score =\",a)"
   ]
  },
  {
   "cell_type": "code",
   "execution_count": 110,
   "id": "d5d37534",
   "metadata": {},
   "outputs": [
    {
     "data": {
      "text/plain": [
       "59.748111873409506"
      ]
     },
     "execution_count": 110,
     "metadata": {},
     "output_type": "execute_result"
    }
   ],
   "source": [
    "KNN=KNeighborsRegressor(n_neighbors=5)\n",
    "KNN.fit(X_strain,y_train)\n",
    "y_pred=KNN.predict(X_stest)\n",
    "algos_standard[\"KNN\"]=r2_score(y_test, y_pred)*100\n",
    "algos_standard[\"KNN\"]"
   ]
  },
  {
   "cell_type": "markdown",
   "id": "3a981681",
   "metadata": {},
   "source": [
    "**Bagging Regressor**"
   ]
  },
  {
   "cell_type": "code",
   "execution_count": 111,
   "id": "1509cc42",
   "metadata": {},
   "outputs": [
    {
     "data": {
      "text/plain": [
       "58.248680502265934"
      ]
     },
     "execution_count": 111,
     "metadata": {},
     "output_type": "execute_result"
    }
   ],
   "source": [
    "baggReg=BaggingRegressor(base_estimator=DecisionTreeRegressor(max_depth=20),n_estimators=50, random_state=1,\n",
    "                         max_samples=1.0, max_features=1.0, bootstrap=False, \n",
    "                         bootstrap_features=False, oob_score=False, warm_start=False, n_jobs=-1, verbose=0)\n",
    "baggReg.fit(X_train,y_train)\n",
    "y_pred=baggReg.predict(X_test)\n",
    "algos[\"Bagging Regression\"]=r2_score(y_test, y_pred)*100\n",
    "algos[\"Bagging Regression\"]"
   ]
  },
  {
   "cell_type": "code",
   "execution_count": 112,
   "id": "33f785f3",
   "metadata": {},
   "outputs": [
    {
     "data": {
      "text/plain": [
       "45.05960798236552"
      ]
     },
     "execution_count": 112,
     "metadata": {},
     "output_type": "execute_result"
    }
   ],
   "source": [
    "baggReg=BaggingRegressor(base_estimator=DecisionTreeRegressor(max_depth=20),n_estimators=50, random_state=1,\n",
    "                         max_samples=1.0, max_features=1.0, bootstrap=False, \n",
    "                         bootstrap_features=False, oob_score=False, warm_start=False, n_jobs=-1, verbose=0)\n",
    "baggReg.fit(X_mtrain,y_train)\n",
    "y_pred=baggReg.predict(X_mtest)\n",
    "algos_minmax[\"Bagging Regression\"]=r2_score(y_test, y_pred)*100\n",
    "algos_minmax[\"Bagging Regression\"]"
   ]
  },
  {
   "cell_type": "code",
   "execution_count": 113,
   "id": "1b97ccf9",
   "metadata": {},
   "outputs": [
    {
     "data": {
      "text/plain": [
       "43.65451337945841"
      ]
     },
     "execution_count": 113,
     "metadata": {},
     "output_type": "execute_result"
    }
   ],
   "source": [
    "baggReg=BaggingRegressor(base_estimator=DecisionTreeRegressor(max_depth=20),n_estimators=50, random_state=1,\n",
    "                         max_samples=1.0, max_features=1.0, bootstrap=False, \n",
    "                         bootstrap_features=False, oob_score=False, warm_start=False, n_jobs=-1, verbose=0)\n",
    "baggReg.fit(X_strain,y_train)\n",
    "y_pred=baggReg.predict(X_stest)\n",
    "algos_standard[\"Bagging Regression\"]=r2_score(y_test, y_pred)*100\n",
    "algos_standard[\"Bagging Regression\"]"
   ]
  },
  {
   "cell_type": "markdown",
   "id": "96e28853",
   "metadata": {},
   "source": [
    "**AdaBoost Regressor**"
   ]
  },
  {
   "cell_type": "code",
   "execution_count": 115,
   "id": "b40ed4ea",
   "metadata": {},
   "outputs": [
    {
     "data": {
      "text/plain": [
       "72.40720976157648"
      ]
     },
     "execution_count": 115,
     "metadata": {},
     "output_type": "execute_result"
    }
   ],
   "source": [
    "ABR = AdaBoostRegressor(\n",
    "    DecisionTreeRegressor(max_depth=24),\n",
    "    n_estimators=200,learning_rate=0.6\n",
    ")\n",
    "\n",
    "ABR.fit(X_train, y_train)\n",
    "y_pred = ABR.predict(X_test)\n",
    "algos[\"AdaBoost Regression\"]=r2_score(y_test, y_pred)*100\n",
    "algos[\"AdaBoost Regression\"]"
   ]
  },
  {
   "cell_type": "code",
   "execution_count": 116,
   "id": "0f91279f",
   "metadata": {},
   "outputs": [
    {
     "data": {
      "text/plain": [
       "68.11097924945524"
      ]
     },
     "execution_count": 116,
     "metadata": {},
     "output_type": "execute_result"
    }
   ],
   "source": [
    "ABR = AdaBoostRegressor(\n",
    "    DecisionTreeRegressor(max_depth=24),\n",
    "    n_estimators=200,learning_rate=0.6\n",
    ")\n",
    "\n",
    "ABR.fit(X_mtrain, y_train)\n",
    "y_pred = ABR.predict(X_mtest)\n",
    "algos_minmax[\"AdaBoost Regression\"]=r2_score(y_test, y_pred)*100\n",
    "algos_minmax[\"AdaBoost Regression\"]"
   ]
  },
  {
   "cell_type": "code",
   "execution_count": 117,
   "id": "92d265a9",
   "metadata": {},
   "outputs": [
    {
     "data": {
      "text/plain": [
       "67.23250194703857"
      ]
     },
     "execution_count": 117,
     "metadata": {},
     "output_type": "execute_result"
    }
   ],
   "source": [
    "ABR = AdaBoostRegressor(\n",
    "    DecisionTreeRegressor(max_depth=24),\n",
    "    n_estimators=200,learning_rate=0.6\n",
    ")\n",
    "\n",
    "ABR.fit(X_strain, y_train)\n",
    "y_pred = ABR.predict(X_stest)\n",
    "algos_standard[\"AdaBoost Regression\"]=r2_score(y_test, y_pred)*100\n",
    "algos_standard[\"AdaBoost Regression\"]"
   ]
  },
  {
   "cell_type": "markdown",
   "id": "dafe6abc",
   "metadata": {},
   "source": [
    "**XGB**"
   ]
  },
  {
   "cell_type": "code",
   "execution_count": 118,
   "id": "4b3c5553",
   "metadata": {},
   "outputs": [
    {
     "data": {
      "text/plain": [
       "71.07096711725885"
      ]
     },
     "execution_count": 118,
     "metadata": {},
     "output_type": "execute_result"
    }
   ],
   "source": [
    "xg_reg = xgb.XGBRegressor(objective ='reg:squarederror', learning_rate = 0.4,\n",
    "                max_depth = 24, alpha = 5, n_estimators = 200)\n",
    "xg_reg.fit(X_train,y_train)\n",
    "y_pred = xg_reg.predict(X_test)\n",
    "algos[\"XGB Regression\"]=r2_score(y_test, y_pred)*100\n",
    "algos[\"XGB Regression\"]"
   ]
  },
  {
   "cell_type": "code",
   "execution_count": 119,
   "id": "22d8e206",
   "metadata": {},
   "outputs": [
    {
     "data": {
      "text/plain": [
       "45.47546980057348"
      ]
     },
     "execution_count": 119,
     "metadata": {},
     "output_type": "execute_result"
    }
   ],
   "source": [
    "xg_reg = xgb.XGBRegressor(objective ='reg:squarederror', learning_rate = 0.4,\n",
    "                max_depth = 24, alpha = 5, n_estimators = 200)\n",
    "xg_reg.fit(X_mtrain,y_train)\n",
    "y_pred = xg_reg.predict(X_mtest)\n",
    "algos_minmax[\"XGB Regression\"]=r2_score(y_test, y_pred)*100\n",
    "algos_minmax[\"XGB Regression\"]"
   ]
  },
  {
   "cell_type": "code",
   "execution_count": 120,
   "id": "225da636",
   "metadata": {},
   "outputs": [
    {
     "data": {
      "text/plain": [
       "63.03605535961714"
      ]
     },
     "execution_count": 120,
     "metadata": {},
     "output_type": "execute_result"
    }
   ],
   "source": [
    "xg_reg = xgb.XGBRegressor(objective ='reg:squarederror', learning_rate = 0.4,\n",
    "                max_depth = 24, alpha = 5, n_estimators = 200)\n",
    "xg_reg.fit(X_strain,y_train)\n",
    "y_pred = xg_reg.predict(X_stest)\n",
    "algos_standard[\"XGB Regression\"]=r2_score(y_test, y_pred)*100\n",
    "algos_standard[\"XGB Regression\"]"
   ]
  },
  {
   "cell_type": "markdown",
   "id": "19897a82",
   "metadata": {},
   "source": [
    "In conclusion even mean imputation didn't really help it just lowered the r2 score across algorithms,infact it was worse than knn"
   ]
  },
  {
   "cell_type": "code",
   "execution_count": 121,
   "id": "2c293f12",
   "metadata": {},
   "outputs": [
    {
     "name": "stdout",
     "output_type": "stream",
     "text": [
      "Linear Regression 59.6983908960804\n",
      "Ridge Regression 59.69766421187961\n",
      "Bagging Regression 58.248680502265934\n",
      "AdaBoost Regression 72.40720976157648\n",
      "XGB Regression 71.07096711725885\n",
      "Random Forest 74.87459313545612\n",
      "MLP -991593.8435025539\n",
      "KNN 51.90808414956454\n"
     ]
    }
   ],
   "source": [
    "for x,y in algos.items():\n",
    "    print (x,y)"
   ]
  },
  {
   "cell_type": "code",
   "execution_count": 122,
   "id": "6ad06528",
   "metadata": {},
   "outputs": [
    {
     "name": "stdout",
     "output_type": "stream",
     "text": [
      "Linear Regression 55.65816092333789\n",
      "Lasso Regression 56.4318425979652\n",
      "Ridge Regression 59.17784069551089\n",
      "Random Forest 69.23273364746892\n",
      "MLP 67.0255341866351\n",
      "Bagging Regression 45.05960798236552\n",
      "AdaBoost Regression 68.11097924945524\n",
      "XGB Regression 45.47546980057348\n",
      "KNN 53.95388794171472\n"
     ]
    }
   ],
   "source": [
    "for x,y in algos_minmax.items():\n",
    "    print (x,y)"
   ]
  },
  {
   "cell_type": "code",
   "execution_count": 123,
   "id": "97bd27b8",
   "metadata": {},
   "outputs": [
    {
     "name": "stdout",
     "output_type": "stream",
     "text": [
      "Linear Regression -2.915472921343106e+22\n",
      "Lasso Regression 59.77199787599352\n",
      "Ridge Regression 59.824048287567024\n",
      "Random Forest 70.85944723927624\n",
      "MLP 68.4803792093069\n",
      "Bagging Regression 43.65451337945841\n",
      "AdaBoost Regression 67.23250194703857\n",
      "XGB Regression 63.03605535961714\n",
      "KNN 59.748111873409506\n"
     ]
    }
   ],
   "source": [
    "for x,y in algos_standard.items():\n",
    "    print (x,y)"
   ]
  },
  {
   "cell_type": "markdown",
   "id": "3c21dc3d",
   "metadata": {},
   "source": [
    "Best is no scaling RF at 74%"
   ]
  },
  {
   "cell_type": "code",
   "execution_count": null,
   "id": "fd16dfcb",
   "metadata": {},
   "outputs": [],
   "source": []
  }
 ],
 "metadata": {
  "kernelspec": {
   "display_name": "Python 3",
   "language": "python",
   "name": "python3"
  },
  "language_info": {
   "codemirror_mode": {
    "name": "ipython",
    "version": 3
   },
   "file_extension": ".py",
   "mimetype": "text/x-python",
   "name": "python",
   "nbconvert_exporter": "python",
   "pygments_lexer": "ipython3",
   "version": "3.8.8"
  }
 },
 "nbformat": 4,
 "nbformat_minor": 5
}
